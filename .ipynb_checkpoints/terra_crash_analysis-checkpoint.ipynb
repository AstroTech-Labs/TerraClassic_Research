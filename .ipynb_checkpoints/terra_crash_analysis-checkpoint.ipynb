{
 "cells": [
  {
   "cell_type": "code",
   "execution_count": 1,
   "metadata": {
    "pycharm": {
     "name": "#%%\n"
    }
   },
   "outputs": [],
   "source": [
    "import numpy as np\n",
    "import pandas as pd\n",
    "import requests\n",
    "import matplotlib.pyplot as plt\n",
    "from tqdm.notebook import tqdm_notebook\n",
    "%matplotlib inline \n",
    "\n",
    "pd.set_option('display.max_columns', None)  \n",
    "pd.set_option('display.max_rows', None) \n",
    "pd.set_option('display.max_colwidth', None)\n",
    "pd.options.display.float_format = '{:,.7f}'.format"
   ]
  },
  {
   "cell_type": "code",
   "execution_count": 2,
   "metadata": {
    "pycharm": {
     "name": "#%%\n"
    }
   },
   "outputs": [],
   "source": [
    "# from terra_sdk.client.lcd import LCDClient\n",
    "# terra = LCDClient(chain_id=\"columbus-5\", url=\"https://columbus-lcd.terra.dev\")\n",
    "# terra"
   ]
  },
  {
   "cell_type": "code",
   "execution_count": 3,
   "metadata": {
    "pycharm": {
     "name": "#%%\n"
    }
   },
   "outputs": [],
   "source": [
    "# get Market Module Parameters\n",
    "# terra.market.parameters()\n",
    "# terra.market.terra_pool_delta()\n",
    "# terra.market.swap_rate()\n",
    "\n",
    "# get current Excahnge rates as provided by the Oracle\n",
    "# terra.oracle.exchange_rates()\n",
    "\n",
    "# terra.ibc.parameters()\n",
    "# terra.ibc_transfer.parameters()\n",
    "\n"
   ]
  },
  {
   "cell_type": "code",
   "execution_count": 4,
   "metadata": {
    "pycharm": {
     "name": "#%%\n"
    }
   },
   "outputs": [],
   "source": [
    "# import requests\n",
    "# pr = requests.get('https://fcd.terra.dev/v1/market/price?denom=uusd&interval=1h').json()"
   ]
  },
  {
   "cell_type": "code",
   "execution_count": 4,
   "metadata": {
    "pycharm": {
     "name": "#%%\n"
    }
   },
   "outputs": [],
   "source": []
  },
  {
   "cell_type": "markdown",
   "metadata": {
    "pycharm": {
     "name": "#%%\n"
    }
   },
   "source": [
    "# Introduction\n",
    "\n",
    "\n",
    "## Terra’s Mission \n",
    "\n",
    "Terra was created with the goal to power the innovation of money by building a price-stable cryptocurrency that can be used as a means of payment and store of value at a global scale. \n",
    "\n",
    "The Terra protocol acted as an algorithmic entity (the de-central bank) that is responsible for maintaining this peg. \n",
    "\n",
    "\n",
    "## How Terra worked under the hood ? \n",
    "\n",
    "To achieve this, it implemented the underlying Luna <> Terra coins mint / burn algorithm within the core protocol via the [market module](https://github.com/terra-money/classic-core/tree/main/x/market/spec). The underlying swaps were processed in International Monetary Fund’s  Special Drawing Rights (SDR), which is a basket of multiple currencies with the official SDR rate published by the IMF on a daily basis, allowing arbitragers, market makers, and Terra to closely align the exchange rate to the peg.\n",
    "\n",
    "The mint / burn swap mechanism is implemented as a constant Product market-making algorithm and was aimed to be designed as a function of the parity between the off-chain liquidity of LUNA/UST and the on-chain liquidity parameters for the redemption of UST/LUNA. However, it failed to behave as expected triggering a “death spiral” bank run characteristic of traditional endogenous collateral models. You can refer to research article for Jump crypto covering the terra crash more in detail [here](https://jumpcrypto.com/the-depegging-of-ust/).\n",
    "\n",
    "\n",
    "\n",
    "\n",
    "## Understanding Terra's Market Module\n",
    "\n",
    "The **base market** starts out with two liquidity pools of equal sizes, \n",
    "\n",
    "- one representing Terra Stablecoins (all denominations), represented by `terra_pool` parameter\n",
    "- ananother representing Luna, represented by `luna_pool` parameter\n",
    "\n",
    "\n",
    "The **base market** is initialized by the parameter `BasePool` (denominated in [SDR](https://en.wikipedia.org/wiki/Special_drawing_rights) ), which defines the initial size of the Terra and Luna liquidity pools.\n",
    "\n",
    "- The `base_pool` parameter is currently set to `100000000000000`, representing 100 Million SDR. \n",
    "\n",
    "Any market swap between Luna <> Terra stablecoins leads to a state transition of their `total_supply` parameter value based via the `mint` / `burn` functions, and this net transition is effectively also captured in the number variable `delta` which tracks net change in the sizes of the two pools, representing the deviation of the Terra pool from its base size in units µSDR.\n",
    "\n",
    "\n",
    "### Swap Procedure\n",
    "\n",
    "1. Market module receives `MsgSwap` message and performs basic validation checks\n",
    "\n",
    "2. Calculate ask and spread using `k.ComputeSwap()`\n",
    "\n",
    "3. Update TerraPoolDelta with `k.ApplySwapToPool()`\n",
    "\n",
    "4. Transfer OfferCoin from account to module using `supply.SendCoinsFromAccountToModule()`\n",
    "\n",
    "5. Burn offered coins, with `supply.BurnCoins()`.\n",
    "\n",
    "6. Let `fee = spread * ask`, this is the `spread fee`.\n",
    "\n",
    "7. Mint `ask - fee coins` of AskDenom with `supply.MintCoins()`. This implicitly applies the spread fee as the fee coins are burned.\n",
    "\n",
    "8. Send newly minted coins to trader with `supply.SendCoinsFromModuleToAccount()`\n",
    "\n",
    "9. Emit swap event to publicize swap and record spread fee\n",
    "\n",
    "\n",
    "At the end of each block, the market module will attempt to \"replenish\" the pools by decreasing the magnitude of between the Terra and Luna pools. The rate at which the pools will be replenished toward equilibrium is set by the parameter `PoolRecoveryPeriod`, with lower periods meaning lower sensitivity to trades, meaning previous trades are more quickly forgotten and the market is able to offer more liquidity.\n",
    "\n",
    "This mechanism ensures liquidity and acts as a sort of low-pass filter, allowing for the `spread fee` (which is a function of `TerraPoolDelta`) to drop back down when there is a change in demand, hence necessary change in supply which needs to be absorbed.\n",
    "\n",
    "#### Seigniorage\n",
    "For Luna swaps into Terra, the Luna that recaptured by the protocol is burned and is called seigniorage -- the value generated from issuing new Terra. At the end of the epoch, the total seigniorage for the epoch will be calculated and reintroduced into the economy as ballot rewards for the exchange rate oracle and to the community pool by the Treasury module, described more fully [here](https://github.com/terra-money/classic-core/blob/main/x/treasury/spec/README.md).\n",
    "\n",
    "\n",
    "Jump crypto has been tracking the performance of the market module params and recommending updates via Governance as visible via the proposals here. Brief pointers from each proposal are mentioned here - \n",
    "\n",
    "\n",
    "1. [**Jan 21 → Proposal to update market module parameters by Jump crypto**](https://classic-agora.terra.money/t/terra-on-chain-liquidity-parameters/305). \n",
    "\n",
    "    This proposal was followed by another one by Do Kown [here](https://classic-agora.terra.money/t/tip-36-further-improvements-to-liquidity-parameters/372) proposing further increasing market module's parameters to `Basepool 7M → 13M SDT` `PoolRecoveryPeriod 200 → 130 blocks` which will roughly terra's stablecoin minting capacity. \n",
    "\n",
    "\n",
    "\n",
    "2. [**May 21 →  Proposal by Jump crypto to update market module parameters**](https://classic-agora.terra.money/t/liquidity-parameters-2/1175)\n",
    "\n",
    "     Jump briefly discussed the oraclre attack possible to be executed on terra in-case on chain liquidity driven off the oracle price is larger than liquidity off chain. Short mention on how one possible solution to mitigate this can be splitting out the `TerraPoolDelta` parameter into `TerraPoolDeltaBid` and `TerraPoolDeltaAsk`. \n",
    "    Proposed parameter updates were the following - \n",
    "\n",
    "    - Increase BasePool size to 32,500,000 SDR\n",
    "    - Reduce PoolRecoveryPeriod to 49 blocks\n",
    "    - Split out TerraPoolDelta into TerraPoolDeltaBid and TerraPoolDeltaAsk.\n",
    "\n",
    "\n",
    "\n",
    "3. [**Jan 29, 2022 →  Proposal by Jump crypto to update market module parameters**](https://classic-agora.terra.money/t/liquidity-parameters-3/3895)\n",
    "\n",
    "    Proposed parameter updates were the following - \n",
    "\n",
    "    - Increase BasePool size to 50,000,000 SDR\n",
    "    - Reduce PoolRecoveryPeriod to 36 blocks\n",
    "\n",
    "\n",
    "5. [**Jan 29, 2022 →  Proposal by Jump crypto for BTC reserve pools**](https://classic-agora.terra.money/t/bitcoin-reserve-pool/5259/23) --> Most of the BTC accumulated for deploying the BTC reserve pool was sold during the May, 22 crash and is not relevent for our analysis. \n"
   ]
  },
  {
   "cell_type": "code",
   "execution_count": null,
   "metadata": {
    "pycharm": {
     "name": "#%%\n"
    }
   },
   "outputs": [],
   "source": []
  },
  {
   "cell_type": "code",
   "execution_count": null,
   "metadata": {
    "pycharm": {
     "name": "#%%\n"
    }
   },
   "outputs": [],
   "source": []
  },
  {
   "cell_type": "code",
   "execution_count": null,
   "metadata": {
    "pycharm": {
     "name": "#%%\n"
    }
   },
   "outputs": [],
   "source": []
  },
  {
   "cell_type": "markdown",
   "metadata": {
    "pycharm": {
     "name": "#%% md\n"
    }
   },
   "source": [
    "# SIMULATE MARKET MODULE's STATE TRANSITION CHANGES DURING THE CRASH"
   ]
  },
  {
   "cell_type": "markdown",
   "metadata": {
    "pycharm": {
     "name": "#%% md\n"
    }
   },
   "source": [
    "### Data imports and Cleaning \n",
    "\n",
    "1. Import all collected data files \n",
    "\n",
    "- **market_swap_txs** : Contains mainnet txs involving Luna <> stablecoins swaps via terra's market module\n",
    "- **exchange_rate_vote_txs** : Contains mainnet txs which update the oracle prices for stable coins used by the market module to process swaps\n",
    "- **astroport_ust_luna_txs** : Contains mainnet txs involving Luna <> UST swaps via Astroport\n",
    "\n",
    "2. Merge same data sets and sort by block number\n",
    "\n",
    "\n",
    "\n",
    "3. Get block numbers range for the available data"
   ]
  },
  {
   "cell_type": "code",
   "execution_count": null,
   "metadata": {
    "pycharm": {
     "name": "#%%\n"
    }
   },
   "outputs": [],
   "source": [
    "# Get DataFrames from pre-processed .csv files\n",
    "\n",
    "## Oracle prices dataset\n",
    "aggregated_exchange_rate_vote_txs_DF = pd.read_csv(\"./cleaned_data/aggregated_exchange_rate_vote_txs_DF.csv\") \n",
    "\n",
    "## LUNA <> UST Swaps via Astroport dataset\n",
    "astroport_ust_luna_txs_DF = pd.read_csv(\"./cleaned_data/astroport_ust_luna_txs_DF.csv\") \n",
    "\n",
    "## LUNA <> UST Market Module swaps which involve mint / burn\n",
    "market_swap_txs_DF = pd.read_csv(\"./cleaned_data/market_swap_txs_DF.csv\") \n",
    "\n",
    "## Market Swaps via Module :: Aggregated Trading Volumes / Supply contraction / expansion dynamics\n",
    "aggregated_market_swap_txs_DF = pd.read_csv(\"./cleaned_data/aggregated_market_swap_txs_DF.csv\") \n",
    "\n",
    "\n",
    "# Remove index column\n",
    "aggregated_exchange_rate_vote_txs_DF.drop(['Unnamed: 0'],axis=1,inplace=True)\n",
    "astroport_ust_luna_txs_DF.drop(['Unnamed: 0'],axis=1,inplace=True)\n",
    "aggregated_market_swap_txs_DF.drop(['Unnamed: 0'],axis=1,inplace=True)\n",
    "market_swap_txs_DF.drop(['Unnamed: 0'],axis=1,inplace=True)"
   ]
  },
  {
   "cell_type": "code",
   "execution_count": null,
   "metadata": {
    "pycharm": {
     "name": "#%%\n"
    }
   },
   "outputs": [],
   "source": []
  },
  {
   "cell_type": "code",
   "execution_count": null,
   "metadata": {
    "pycharm": {
     "name": "#%%\n"
    }
   },
   "outputs": [],
   "source": []
  },
  {
   "cell_type": "code",
   "execution_count": null,
   "metadata": {
    "pycharm": {
     "name": "#%%\n"
    }
   },
   "outputs": [],
   "source": [
    "def simulate_terra_classic(terra_classic_instance, astroport_txs_DF, market_swap_txs_DF, exchange_rate_txs_DF, start_height, end_height):\n",
    "    simulation_metrics_DF = pd.DataFrame(columns=['BlockHeight','burnt_denom', 'tokens_burnt', 'minted_denom',\n",
    "       'tokens_minted', 'swap_amount', 'swap_fee_amount','spread', 'lunaPool', 'delta','ukrw_oracle_price','usdr_oracle_price'\\\n",
    "                                                 ,'uusd_oracle_price','usd_per_ust_price','usd_per_luna_price', 'expected_profit'])\n",
    "    \n",
    "    cur_height = start_height\n",
    "    prices = {\"ukrw\": 0, \"usdr\": 0, \"uusd\": 0}    \n",
    "    price_till = 0\n",
    "    \n",
    "    # Process all blocks \n",
    "    for cur_height in tqdm_notebook(range(start_height,end_height)):\n",
    "        \n",
    "        # Oracle Prices\n",
    "        ukrw_oracle_price = terra_classic_instance.OracleKeeper.GetLunaExchangeRate(\"ukrw\")\n",
    "        usdr_oracle_price = terra_classic_instance.OracleKeeper.GetLunaExchangeRate(\"usdr\")\n",
    "        uusd_oracle_price = terra_classic_instance.OracleKeeper.GetLunaExchangeRate(\"uusd\")\n",
    "        \n",
    "        # Get UST and LUNA's actual USD Price\n",
    "        actual_ust_luna_exchange_DF = astroport_txs_DF.loc[ astroport_txs_DF[\"BlockHeight\"] == cur_height ]        \n",
    "        ust_price_in_usd = 0\n",
    "        luna_price_in_usd = 0\n",
    "        if len(actual_ust_luna_exchange_DF.index) > 0 and uusd_oracle_price[0] > 0:\n",
    "            ust_per_luna_price = actual_ust_luna_exchange_DF.iloc[0][\"Price (ust/luna)\"]\n",
    "            ust_price_in_usd = uusd_oracle_price[0] / ust_per_luna_price\n",
    "            luna_price_in_usd = uusd_oracle_price[0]\n",
    "                    \n",
    "        \n",
    "        # Get all market swap txs to be processed for the current block\n",
    "        cur_swap_txs_DF = market_swap_txs_DF.loc[ market_swap_txs_DF[\"BlockHeight\"] == cur_height ]\n",
    "        \n",
    "        # Loop over all txs for each block\n",
    "        for tx_row in cur_swap_txs_DF.to_dict(orient='records'):\n",
    "            try:\n",
    "                # Process swap tx :: Only UST burn txs are considered\n",
    "                if tx_row[\"burnt_denom\"] == \"uusd\" and tx_row[\"minted_denom\"] == \"uluna\": # or tx_row[\"burnt_denom\"] == \"uluna\") and (tx_row[\"minted_denom\"] == \"uusd\" or tx_row[\"minted_denom\"] == \"uluna\"):\n",
    "#                     print(f\"\\nblock {cur_height} :: Burn {tx_row['burnt_denom']} {tx_row['tokens_burnt']} tokens and mint {tx_row['minted_denom']} tokens\")\n",
    "                    swap_response = terra_classic_instance.Swap(\"trader\", {\"denom\":tx_row[\"burnt_denom\"], \"amount\":float(tx_row[\"tokens_burnt\"]) }, tx_row[\"minted_denom\"])\n",
    "                    swapCoin = swap_response[\"SwapCoin\"] \n",
    "                    swapFee = swap_response[\"SwapFee\"] \n",
    "                    spread = swap_response[\"spread\"] \n",
    "                    err = swap_response[\"Error\"] \n",
    "\n",
    "                    if err != None:\n",
    "                        print(err)\n",
    "                    else:\n",
    "                        lunaPool = terra_classic_instance.get_LunaPool_fromTerraPool()\n",
    "                        delta = terra_classic_instance.GetTerraPoolDelta()\n",
    "                        \n",
    "                        expected_profit = 0\n",
    "                        if tx_row[\"burnt_denom\"] == \"uusd\": # If UST is burnt and LUNA is minted\n",
    "                            expected_profit = (float(swapCoin[\"amount\"]) * luna_price_in_usd) -  (tx_row['tokens_burnt'] * ust_price_in_usd)\n",
    "                        else:  # If LUNA is burnt and UST is minted\n",
    "                            expected_profit = (float(swapCoin[\"amount\"]) * ust_price_in_usd) -  (tx_row['tokens_burnt'] * luna_price_in_usd)\n",
    "\n",
    "                        # store metrics\n",
    "                        simulation_metrics_DF.loc[len(simulation_metrics_DF.index)] = [cur_height, tx_row[\"burnt_denom\"],\\\n",
    "                                                    tx_row[\"tokens_burnt\"], tx_row[\"minted_denom\"], float(swapCoin[\"amount\"]) + float(swapFee[\"amount\"]),\\\n",
    "                                                    swapCoin[\"amount\"], swapFee[\"amount\"], spread, lunaPool, delta, ukrw_oracle_price[0],\\\n",
    "                                                    usdr_oracle_price[0], uusd_oracle_price[0], ust_price_in_usd, luna_price_in_usd, expected_profit ]\n",
    "            except Exception as e:\n",
    "                print(f\"\\nblock {cur_height} :: Burn {tx_row['burnt_denom']} {tx_row['tokens_burnt']} tokens and mint {tx_row['minted_denom']} tokens\")\n",
    "                print(e)\n",
    "            \n",
    "            \n",
    "        # Replensih Market module's pool after each block\n",
    "        terra_classic_instance.TerraMarketModuleEndBlock()\n",
    "                            \n",
    "        # Update oracle prices every 5 blocks\n",
    "        if cur_height%5 == 0 and price_till < cur_height:\n",
    "            # Get Oracle price from the feed\n",
    "            cur_price_DF = exchange_rate_txs_DF.loc[ exchange_rate_txs_DF[\"BlockHeight\"] == cur_height ] \n",
    "            # If oracle price is 0 here, get the next valid price feed value\n",
    "            if cur_price_DF.iloc[0][\"uusd::mean\"] == 0:        \n",
    "                price_height = cur_height\n",
    "                while cur_price_DF.iloc[0][\"uusd::mean\"] == 0:\n",
    "                    price_height = price_height + 1\n",
    "                    price_till = price_height\n",
    "                    cur_price_DF = exchange_rate_txs_DF.loc[ exchange_rate_txs_DF[\"BlockHeight\"] == price_height ] \n",
    "                    print(f\"while LOOP ||| {price_height} || {cur_price_DF.iloc[0]['uusd::mean']}\")\n",
    "                    \n",
    "            # Set oracle prices \n",
    "            terra_classic_instance.OracleKeeper.SetLunaExchangeRate(\"ukrw\", cur_price_DF.iloc[0][\"ukrw::mean\"] )\n",
    "            print(f\"{cur_height} || ukrw price = {cur_price_DF.iloc[0]['ukrw::mean']}\")\n",
    "            terra_classic_instance.OracleKeeper.SetLunaExchangeRate(\"usdr\", cur_price_DF.iloc[0][\"usdr::mean\"] )\n",
    "            print(f\"{cur_height} || usdr price = {cur_price_DF.iloc[0]['usdr::mean']}\")\n",
    "            terra_classic_instance.OracleKeeper.SetLunaExchangeRate(\"uusd\", cur_price_DF.iloc[0][\"uusd::mean\"] )\n",
    "            print(f\"{cur_height} || uusd price = {cur_price_DF.iloc[0]['uusd::mean']}\")\n",
    "                    \n",
    "    \n",
    "    return simulation_metrics_DF\n",
    "\n",
    "\n",
    "\n",
    "\n"
   ]
  },
  {
   "cell_type": "code",
   "execution_count": null,
   "metadata": {
    "pycharm": {
     "name": "#%%\n"
    }
   },
   "outputs": [],
   "source": [
    "\n",
    "# CREATE TERRA CLASSIC INSTANCE \n",
    "terra_classic_instance = TerraMarketModule(100000000, 0.02, 18)\n",
    "terra_classic_instance.BankKeeper.MintCoins(\"trader\",{\"denom\":\"uluna\", \"amount\":800 * 10**6 })\n",
    "terra_classic_instance.BankKeeper.MintCoins(\"trader\",{\"denom\":\"uusd\", \"amount\":18000 * 10**6 })\n",
    "\n",
    "# Set initial exchange rates\n",
    "terra_classic_instance.OracleKeeper.SetLunaExchangeRate(\"uusd\", 3.074 )\n",
    "terra_classic_instance.OracleKeeper.SetLunaExchangeRate(\"usdr\", 2.290 )\n",
    "terra_classic_instance.OracleKeeper.SetLunaExchangeRate(\"ukrw\", 3916.569 )\n",
    "\n"
   ]
  },
  {
   "cell_type": "code",
   "execution_count": null,
   "metadata": {
    "pycharm": {
     "name": "#%%\n"
    }
   },
   "outputs": [],
   "source": [
    "# Get Block heights for which data is available and block height range for which simulation is to be executed\n",
    "\n",
    "astroport_txs_DF_start_block = astroport_ust_luna_txs_DF.iloc[0][\"BlockHeight\"]\n",
    "astroport_txs_DF_end_block = astroport_ust_luna_txs_DF.iloc[len(astroport_ust_luna_txs_DF.index) - 1][\"BlockHeight\"]\n",
    "print(f\"astroport_txs_DF || Start block = {astroport_txs_DF_start_block}  End block = {astroport_txs_DF_end_block} \\\n",
    "Total Blocks = {astroport_txs_DF_end_block - astroport_txs_DF_start_block}\")\n",
    "\n",
    "market_swap_txs_DF_start_block = market_swap_txs_DF.iloc[0][\"BlockHeight\"]\n",
    "market_swap_txs_DF_end_block = market_swap_txs_DF.iloc[len(market_swap_txs_DF.index) - 1][\"BlockHeight\"]\n",
    "print(f\"market_swap_txs_DF || Start block = {market_swap_txs_DF_start_block}  End block = {market_swap_txs_DF_end_block} \\\n",
    "Total Blocks = {market_swap_txs_DF_end_block - market_swap_txs_DF_start_block}\")\n",
    "\n",
    "oracle_txs_DF_start_block = aggregated_exchange_rate_vote_txs_DF.iloc[0][\"BlockHeight\"]\n",
    "oracle_txs_DF_end_block = aggregated_exchange_rate_vote_txs_DF.iloc[len(aggregated_exchange_rate_vote_txs_DF.index) - 1][\"BlockHeight\"]\n",
    "print(f\"oracle_txs_DF || Start block = {oracle_txs_DF_start_block}  End block = {oracle_txs_DF_end_block} \\\n",
    "Total Blocks = {oracle_txs_DF_end_block - oracle_txs_DF_start_block}\")\n",
    "\n",
    "start_block = int(max(astroport_txs_DF_start_block, max(market_swap_txs_DF_start_block, oracle_txs_DF_start_block)))\n",
    "end_block = int(min(astroport_txs_DF_end_block, min(market_swap_txs_DF_end_block, oracle_txs_DF_end_block)))\n",
    "print(f\"\\nSimulation parameters, Start block = {start_block} End block = {end_block} | Total blocks = {end_block - start_block}\")\n",
    "\n",
    "\n"
   ]
  },
  {
   "cell_type": "code",
   "execution_count": null,
   "metadata": {
    "pycharm": {
     "name": "#%%\n"
    }
   },
   "outputs": [],
   "source": []
  },
  {
   "cell_type": "code",
   "execution_count": null,
   "metadata": {
    "pycharm": {
     "name": "#%%\n"
    }
   },
   "outputs": [],
   "source": [
    "# Execute simulation\n",
    "# simulated_swap_txs_DF = simulate_terra_classic(terra_classic_instance, astroport_ust_luna_txs_DF, market_swap_txs_DF, aggregated_exchange_rate_vote_txs_DF, start_block, end_block)\n",
    "\n",
    "\n",
    "\n"
   ]
  },
  {
   "cell_type": "code",
   "execution_count": null,
   "metadata": {
    "pycharm": {
     "name": "#%%\n"
    }
   },
   "outputs": [],
   "source": [
    "simulated_swap_txs_DF.to_csv(\"./simulated_swap_data/market_swap_txs_DF.csv\") "
   ]
  },
  {
   "cell_type": "code",
   "execution_count": null,
   "metadata": {
    "pycharm": {
     "name": "#%%\n"
    }
   },
   "outputs": [],
   "source": [
    "# simulated_swap_txs_DF.tail(4000)"
   ]
  },
  {
   "cell_type": "code",
   "execution_count": null,
   "metadata": {
    "pycharm": {
     "name": "#%%\n"
    }
   },
   "outputs": [],
   "source": [
    "# market_swap_txs_DF.head(4)"
   ]
  },
  {
   "cell_type": "code",
   "execution_count": null,
   "metadata": {
    "pycharm": {
     "name": "#%%\n"
    }
   },
   "outputs": [],
   "source": [
    "# simulated_swap_txs_DF.head(40)"
   ]
  },
  {
   "cell_type": "code",
   "execution_count": null,
   "metadata": {
    "pycharm": {
     "name": "#%%\n"
    }
   },
   "outputs": [],
   "source": [
    "# cur_swap_txs_DF = market_swap_txs_DF.loc[ market_swap_txs_DF[\"BlockHeight\"] == 7589925 ]"
   ]
  },
  {
   "cell_type": "code",
   "execution_count": null,
   "metadata": {
    "pycharm": {
     "name": "#%%\n"
    }
   },
   "outputs": [],
   "source": [
    "# cur_swap_txs_DF"
   ]
  },
  {
   "cell_type": "code",
   "execution_count": null,
   "metadata": {
    "pycharm": {
     "name": "#%%\n"
    }
   },
   "outputs": [],
   "source": [
    "actual_ust_luna_exchange_DF = astroport_ust_luna_txs_DF.loc[ astroport_ust_luna_txs_DF[\"BlockHeight\"] == 7607375 ]"
   ]
  },
  {
   "cell_type": "code",
   "execution_count": null,
   "metadata": {
    "pycharm": {
     "name": "#%%\n"
    }
   },
   "outputs": [],
   "source": [
    "# actual_ust_luna_exchange_DF"
   ]
  },
  {
   "cell_type": "code",
   "execution_count": null,
   "metadata": {
    "pycharm": {
     "name": "#%%\n"
    }
   },
   "outputs": [],
   "source": [
    "actual_ust_luna_exchange_DF.index"
   ]
  },
  {
   "cell_type": "code",
   "execution_count": null,
   "metadata": {
    "pycharm": {
     "name": "#%%\n"
    }
   },
   "outputs": [],
   "source": [
    "actual_ust_luna_exchange_DF"
   ]
  },
  {
   "cell_type": "code",
   "execution_count": null,
   "metadata": {
    "pycharm": {
     "name": "#%%\n"
    }
   },
   "outputs": [],
   "source": [
    "actual_ust_luna_exchange_DF.iloc[0][\"Price (ust/luna)\"]"
   ]
  },
  {
   "cell_type": "code",
   "execution_count": null,
   "metadata": {
    "pycharm": {
     "name": "#%%\n"
    }
   },
   "outputs": [],
   "source": []
  },
  {
   "cell_type": "code",
   "execution_count": null,
   "metadata": {
    "pycharm": {
     "name": "#%%\n"
    }
   },
   "outputs": [],
   "source": []
  },
  {
   "cell_type": "code",
   "execution_count": null,
   "metadata": {
    "pycharm": {
     "name": "#%%\n"
    }
   },
   "outputs": [],
   "source": []
  },
  {
   "cell_type": "code",
   "execution_count": null,
   "metadata": {
    "pycharm": {
     "name": "#%%\n"
    }
   },
   "outputs": [],
   "source": []
  },
  {
   "cell_type": "code",
   "execution_count": null,
   "metadata": {
    "pycharm": {
     "name": "#%%\n"
    }
   },
   "outputs": [],
   "source": []
  },
  {
   "cell_type": "code",
   "execution_count": null,
   "metadata": {
    "pycharm": {
     "name": "#%%\n"
    }
   },
   "outputs": [],
   "source": []
  },
  {
   "cell_type": "markdown",
   "metadata": {
    "pycharm": {
     "name": "#%%\n"
    }
   },
   "source": [
    "# TERRA Market Module\n",
    "\n",
    "A simulated version of terra's market module. Used to simulate on-chain behaviour for analysis. \n",
    "\n",
    "\n",
    "### Parameters\n",
    "\n",
    "The market module contains the following parameters:\n",
    "\n",
    "| Key                 | Type         | Example                |\n",
    "|---------------------|--------------|------------------------|\n",
    "| basepool            | string (dec) | \"250000000000.0\"       |\n",
    "| minstabilityspread  | string (dec) | \"0.010000000000000000\"                                           |\n",
    "| poolrecoveryperiod  | string (int) | \"14400\"                |\n",
    "\n",
    "\n",
    "-------------------------x-------------------------x-------------------------x-------------------------x--------------\n",
    "\n",
    "## State\n",
    "\n",
    "### TerraPoolDelta\n",
    "\n",
    "Market module provides swap functionality based on constant product mechanism. Terra pool have to keep its delta to track the currency demands for swap spread. Luna pool can be retrived from Terra pool delta with following equation:\n",
    "\n",
    "```go\n",
    "TerraPool = BasePool + delta\n",
    "LunaPool = (BasePool * BasePool) / TerraPool\n",
    "```\n",
    "\n",
    "> Note that the all pool holds decimal unit of `usdr` amount, so delta is also `usdr` unit.\n",
    "\n",
    "\n",
    "### Messages\n",
    "\n",
    "#### MsgSwap\n",
    "\n",
    "A MsgSwap transaction denotes the Trader's intent to swap their balance of `OfferCoin` for new denomination `AskDenom`, for both Terra<>Terra and Terra<>Luna swaps.\n",
    "\n",
    "\n",
    "#### MsgSwapSend\n",
    "A MsgSendSwap first performs a swap of OfferCoin into AskDenom and the sends the resulting coins to ToAddress. Tax is charged normally, as if the sender were issuing a MsgSend with the resutling coins of the swap.\n",
    "\n",
    "\n",
    "-------------------------x-------------------------x-------------------------x-------------------------x--------------\n",
    "\n",
    "### Functions\n",
    "\n",
    "#### ComputeSwap\n",
    "\n",
    "This function detects the swap type from the offer and ask denominations and returns:\n",
    "\n",
    "1. The amount of asked coins that should be returned for a given `offerCoin`. This is achieved by first spot-converting `offerCoin` to µSDR and then from µSDR to the desired `askDenom` with the proper exchange rate reported from by the Oracle.\n",
    "\n",
    "2. The spread % that should be taken as a swap fee given the swap type. Terra<>Terra swaps simply have the Tobin Tax spread fee. Terra<>Luna spreads are the greater of `MinSpread` and spread from Constant Product pricing.\n",
    "\n",
    "\n",
    "#### ApplySwapToPool\n",
    "\n",
    "1. This function is called during the swap to update the blockchain's measure of , `TerraPoolDelta`, when the balances of the Terra and Luna liquidity pools have changed.\n",
    "\n",
    "2. Terra currencies share the same liquidity pool, so `TerraPoolDelta` remains unaltered during Terra<>Terra swaps.\n",
    "\n",
    "3. For Terra<>Luna swaps, the relative sizes of the pools will be different after the swap, and `delta` will be updated with the following formulas:\n",
    "\n",
    "    - For Terra to Luna, `delta = delta + offerAmount`\n",
    "    - For Luna to Terra, `delta = delta - askAmount`\n",
    "\n",
    "\n",
    "-------------------------x-------------------------x-------------------------x-------------------------x--------------\n",
    "\n",
    "### End Block\n",
    "\n",
    "#### Replenish Pool\n",
    "At each `EndBlock`, the value of `TerraPoolDelta` is decreased depending on `PoolRecoveryPeriod` of parameter.\n",
    "\n",
    "This allows the network to sharply increase spread fees in during acute price fluctuations, and automatically return the spread to normal after some time when the price change is long term.\n",
    "\n",
    "\n"
   ]
  },
  {
   "cell_type": "code",
   "execution_count": null,
   "metadata": {
    "pycharm": {
     "name": "#%%\n"
    }
   },
   "outputs": [],
   "source": [
    "# Market Module implements the logic of swaps between Luna and Terra coins implemented via burn / mint \n",
    "# making their total supply dynamic\n",
    "\n",
    "# Market module provides swap functionality based on constant product mechanism. Terra pool have to keep \n",
    "# its delta to track the currency demands for swap spread. \n",
    "\n",
    "#---------------x-----------x--------------\n",
    "class TerraMarketModule:\n",
    "    \n",
    "    def __new__(cls, *args, **kwargs):\n",
    "        return super().__new__(cls)    \n",
    "\n",
    "    def __init__(self, basepool, minstabilityspread, poolrecoveryperiod):\n",
    "        self.delta = 0\n",
    "        self.SetParams(basepool, minstabilityspread, poolrecoveryperiod)\n",
    "    \n",
    "        self.MicroLunaDenom = \"uluna\" \n",
    "        self.MicroUSDDenom  = \"uusd\"\n",
    "        self.MicroKRWDenom  = \"ukrw\"\n",
    "        self.MicroSDRDenom  = \"usdr\"\n",
    "        self.MicroCNYDenom  = \"ucny\"\n",
    "        self.MicroJPYDenom  = \"ujpy\"\n",
    "        self.MicroEURDenom  = \"ueur\"\n",
    "        self.MicroGBPDenom  = \"ugbp\"\n",
    "        self.MicroMNTDenom  = \"umnt\"\n",
    "    \n",
    "        # Keeps track of token balances\n",
    "        self.BankKeeper = TerraBankModule()\n",
    "        # Keeps track of oracle prices\n",
    "        self.OracleKeeper = TerraOracleKeeper()\n",
    "   \n",
    "    # SET Parameters\n",
    "    def SetParams(self, basepool, minstabilityspread, poolrecoveryperiod):\n",
    "        self.basepool = basepool\n",
    "        self.minstabilityspread = minstabilityspread\n",
    "        self.poolrecoveryperiod = poolrecoveryperiod\n",
    "    \n",
    "        \n",
    "    # Luna pool can be retrived from Terra pool delta with following function:\n",
    "    def get_LunaPool_fromTerraPool(self):\n",
    "        terraPool = self.basepool + self.delta\n",
    "        lunaPool = (self.basepool * self.basepool) / terraPool\n",
    "        return lunaPool\n",
    "\n",
    "    # GetBasePool returns the basepool\n",
    "    def GetBasePool(self):\n",
    "        return self.basepool\n",
    "    \n",
    "    # GetMinStabilitySpread returns the minstabilityspread\n",
    "    def GetMinStabilitySpread(self):\n",
    "        return self.minstabilityspread\n",
    "\n",
    "    # GetPoolRecoveryPeriod returns the poolrecoveryperiod\n",
    "    def GetPoolRecoveryPeriod(self):\n",
    "        return self.poolrecoveryperiod\n",
    "    \n",
    "    # GetTerraPoolDelta returns the gap between the TerraPool and the TerraBasePool\n",
    "    def GetTerraPoolDelta(self):\n",
    "        return self.delta\n",
    "\n",
    "    # SetTerraPoolDelta updates TerraPoolDelta which is gap between the TerraPool and the BasePool\n",
    "    def _SetTerraPoolDelta(self,delta):\n",
    "        self.delta = delta\n",
    "\n",
    "    # USER INTERACTION - SWAP FUNCTION\n",
    "    def Swap(self, trader,offerCoin, askDenom ) : \n",
    "        res = self._handleSwapRequest(trader,offerCoin, askDenom )\n",
    "        return res        \n",
    "\n",
    "\n",
    "    # USER INTERACTION - SWAPSEND FUNCTION\n",
    "    def SwapSend(self, trader, offerCoin, askDenom ): \n",
    "        res = self._handleSwapRequest(trader,offerCoin, askDenom )\n",
    "        return res\n",
    "        \n",
    "    # INTERNAL FUNCTION\n",
    "    # // handleMsgSwap handles the logic of a MsgSwap\n",
    "    # // This function does not repeat checks that have already been performed\n",
    "    # // Ex) assert(offerCoin.Denom != askDenom)\n",
    "    def _handleSwapRequest(self, trader,offerCoin, askDenom ): \n",
    "\n",
    "        #  Compute exchange rates between the ask and offer\n",
    "        (swapDecCoin, spread, err) = self._ComputeSwap(offerCoin, askDenom)\n",
    "        if err != None:\n",
    "            return (None, err)\n",
    "\n",
    "        #  Charge a spread if applicable; the spread is burned\n",
    "        feeDecCoin : Coin\n",
    "        if spread > 0:\n",
    "            feeDecCoin = {\"denom\" : swapDecCoin[\"denom\"], \"amount\" : spread * swapDecCoin[\"amount\"]}\n",
    "        else:\n",
    "            feeDecCoin = {\"denom\" : swapDecCoin[\"denom\"], amount : 0 }\n",
    "        \n",
    "        # Subtract fee from the swap coin\n",
    "        swapDecCoin[\"amount\"] = swapDecCoin[\"amount\"] - feeDecCoin[\"amount\"]\n",
    "\n",
    "        # Update pool delta\n",
    "        err = self._ApplySwapToPool(offerCoin, swapDecCoin)\n",
    "        if err != None:\n",
    "            return (None, err)\n",
    "\n",
    "        # Send offer coins to module account\n",
    "        err = self.BankKeeper.SendCoinsFromAccountToModule(trader, \"market\", offerCoin)\n",
    "        if err != None:\n",
    "            return None, err\n",
    "\n",
    "        # Burn offered coins and subtract from the trader's account\n",
    "        err = self.BankKeeper.BurnCoins(\"market\", offerCoin)\n",
    "        if err != None:\n",
    "            return None, err\n",
    "\n",
    "        # Mint asked coins and credit Trader's account\n",
    "        #         swapCoin, decimalCoin = swapDecCoin.TruncateDecimal()\n",
    "        #         feeDecCoin = feeDecCoin.Add(decimalCoin) # add truncated decimalCoin to swapFee\n",
    "        #         feeCoin, _ := feeDecCoin.TruncateDecimal()\n",
    "        mintCoins = { \"denom\": swapDecCoin[\"denom\"], \"amount\":swapDecCoin[\"amount\"] + feeDecCoin[\"amount\"] }\n",
    "        err = self.BankKeeper.MintCoins(\"market\", mintCoins)\n",
    "        if err != None:\n",
    "            return None, err\n",
    "\n",
    "        # Send swap coin to the trader\n",
    "        err = self.BankKeeper.SendCoinsFromModuleToAccount(\"market\", trader, swapDecCoin)\n",
    "        if err != None:\n",
    "            return None, err\n",
    "\n",
    "        # Send swap fee to oracle account\n",
    "        if feeDecCoin[\"amount\"] > 0:\n",
    "            err = self.BankKeeper.SendCoinsFromModuleToModule(\"market\", \"oracle\", feeDecCoin)\n",
    "            if err != None:\n",
    "                return None, err\n",
    "\n",
    "\n",
    "        return { \"SwapCoin\": swapDecCoin,\n",
    "                  \"SwapFee\":  feeDecCoin,\n",
    "                    \"spread\": spread,\n",
    "                    \"Error\": None\n",
    "                }\n",
    "\n",
    "\n",
    "    \n",
    "    # INTERNAL FUNCTION\n",
    "    # // ComputeSwap returns the amount of asked coins should be returned for a given offerCoin at the effective\n",
    "    # // exchange rate registered with the oracle.\n",
    "    # // Returns an Error if the swap is recursive, or the coins to be traded are unknown by the oracle, or the amount\n",
    "    # // to trade is too small.\n",
    "    def _ComputeSwap(self, offerCoin, askDenom):\n",
    "\n",
    "        # Return invalid recursive swap err\n",
    "        if offerCoin[\"denom\"] == askDenom:\n",
    "            return {\"denom\":\"\", \"amount\":0}, 0, \"_ComputeSwap :: offer asset cannot be same as ask asset\"\n",
    "\n",
    "        # Swap offer coin to base denom (usdr) for simplicity of swap process\n",
    "        baseOfferDecCoin, err = self._ComputeInternalSwap(offerCoin, self.MicroSDRDenom)\n",
    "        if err != None:\n",
    "            return {\"denom\":\"\", \"amount\":0}, 0, err\n",
    "#         else:\n",
    "#             print(f\"{offerCoin['amount']} {offerCoin['denom']} --> {baseOfferDecCoin['amount']} {baseOfferDecCoin['denom']}\")\n",
    "\n",
    "        # Get Ask asset swap amount based on the oracle price\n",
    "        retDecCoin, err = self._ComputeInternalSwap(baseOfferDecCoin, askDenom)\n",
    "        if err != None:\n",
    "            return {\"denom\":\"\", \"amount\":0}, 0, err\n",
    "#         else:\n",
    "#             print(f\"{baseOfferDecCoin['amount']} {baseOfferDecCoin['denom']} --> {retDecCoin['amount']} {retDecCoin['denom']}\")\n",
    "\n",
    "        # Terra => Terra swap\n",
    "        # Apply only tobin tax without constant product spread\n",
    "        if offerCoin[\"denom\"] != self.MicroLunaDenom and askDenom != self.MicroLunaDenom:\n",
    "            # OfferCoin Toblin Tax\n",
    "            offerTobinTax, err2 = self.OracleKeeper.GetTobinTax(offerCoin[\"denom\"])\n",
    "            if err2 != None :\n",
    "                return {\"denom\":\"\", \"amount\":0}, 0, err2\n",
    "\n",
    "            # AskAsset Toblin Tax\n",
    "            askTobinTax, err2 = self.OracleKeeper.GetTobinTax(ctx, askDenom)\n",
    "            if err2 != None :\n",
    "                return {\"denom\":\"\", \"amount\":0}, 0, err2\n",
    "\n",
    "            # Apply highest tobin tax for the denoms in the swap operation\n",
    "            tobinTax = 0\n",
    "            if askTobinTax > offerTobinTax:\n",
    "                tobinTax = askTobinTax\n",
    "            else :\n",
    "                tobinTax = offerTobinTax\n",
    "            \n",
    "            # Return the computed returnAsset and spread for Terra --> Terra Swap\n",
    "            spread = tobinTax\n",
    "            return (retDecCoin, spread, None)\n",
    "\n",
    "        basePool = self.basepool\n",
    "        minSpread = self.minstabilityspread\n",
    "\n",
    "        #  constant-product, which by construction is square of base(equilibrium) pool\n",
    "        # Calculate current TerraPool and LunaPool values\n",
    "        cp = basePool*basePool\n",
    "        terraPoolDelta = self.GetTerraPoolDelta()\n",
    "        terraPool = basePool + terraPoolDelta\n",
    "        lunaPool = cp / terraPool\n",
    "    \n",
    "#         print(f\"terraPool = {terraPool} lunaPool = {lunaPool} terraPoolDelta = {terraPoolDelta}\")\n",
    "    \n",
    "        # Assign TerraPool / LunaPool to OfferAsset / AskAssets\n",
    "        offerPool = \"\" # base denom(usdr) unit\n",
    "        askPool = \"\"   # base denom(usdr) unit\n",
    "        #  Terra->Luna swap\n",
    "        if offerCoin[\"denom\"] != self.MicroLunaDenom:\n",
    "            offerPool = terraPool\n",
    "            askPool = lunaPool\n",
    "        # Luna->Terra swap\n",
    "        else:\n",
    "            offerPool = lunaPool\n",
    "            askPool = terraPool\n",
    "\n",
    "        # Get cp(constant-product) based swap amount\n",
    "        # baseAskAmt = askPool - cp / (offerPool + offerBaseAmount)\n",
    "        # baseAskAmt is base denom(usdr) unit\n",
    "        exp_new_ask_pool = cp/(offerPool + baseOfferDecCoin[\"amount\"])\n",
    "        baseAskAmt = askPool - exp_new_ask_pool\n",
    "#         print(f\"askPool = {askPool} | exp_new_ask_pool = {exp_new_ask_pool} | baseAskAmt = {baseAskAmt} \")\n",
    "\n",
    "        # Both baseOffer and baseAsk are usdr units, so spread can be calculated by\n",
    "        # spread = (baseOfferAmt - baseAskAmt) / baseOfferAmt\n",
    "        baseOfferAmount = baseOfferDecCoin[\"amount\"]\n",
    "        spread = (baseOfferAmount - baseAskAmt) / baseOfferAmount\n",
    "\n",
    "        if spread < minSpread:\n",
    "            spread = minSpread\n",
    "#         print(f\"spread = {spread} \")\n",
    "\n",
    "        return(retDecCoin, spread, None)\n",
    "\n",
    "\n",
    "\n",
    "    \n",
    "    # INTERNAL FUNCTION\n",
    "    # ComputeInternalSwap returns the amount of asked DecCoin should be returned for a given offerCoin at the effective\n",
    "    # exchange rate registered with the oracle.\n",
    "    # Different from ComputeSwap, ComputeInternalSwap does not charge a spread as its use is system internal.\n",
    "    def _ComputeInternalSwap(self, offerCoin, askDenom):\n",
    "        if offerCoin[\"denom\"] == askDenom:\n",
    "            return offerCoin, 0\n",
    "        \n",
    "        # Get exchange rate :: OfferAsset --> Luna\n",
    "        offerRate, err = self.OracleKeeper.GetLunaExchangeRate(offerCoin[\"denom\"])\n",
    "        if err != None:\n",
    "            return {\"denom\":\"\", \"amount\":0}, f\"ErrNoEffectivePriceFromOracleFor ${offerCoin['denom']}\"\n",
    "        \n",
    "        # Get exchange rate :: AskAsset --> Luna\n",
    "        askRate, err = self.OracleKeeper.GetLunaExchangeRate(askDenom)\n",
    "        if err != None:\n",
    "            return {\"denom\":\"\", \"amount\":0}, f\"ErrNoEffectivePriceFromOracleFor ${askDenom}\"\n",
    "        \n",
    "        # Calculate return amount\n",
    "        retAmount = offerCoin[\"amount\"] * askRate / offerRate\n",
    "        if retAmount < 0:\n",
    "            return {\"denom\":\"\", \"amount\":0}, \"ComputeInternalSwap::Err Return Calc\"\n",
    "        \n",
    "        # return calc. return amount\n",
    "        return ({\"denom\":askDenom,\"amount\": retAmount}, None)\n",
    "    \n",
    "    \n",
    "    # INTERNAL FUNCTION\n",
    "    # ApplySwapToPool updates each pool with offerCoin and askCoin taken from swap operation,\n",
    "    # OfferPool = OfferPool + offerAmt (Fills the swap pool with offerAmt)\n",
    "    # AskPool = AskPool - askAmt       (Uses askAmt from the swap pool)\n",
    "    def  _ApplySwapToPool(self, offerCoin, askCoin):\n",
    "        # No delta update in case Terra to Terra swap\n",
    "        if offerCoin[\"denom\"] != self.MicroLunaDenom and askCoin[\"denom\"] != self.MicroLunaDenom:\n",
    "            return None\n",
    "        # Get Delta\n",
    "        terraPoolDelta = self.GetTerraPoolDelta()\n",
    "\n",
    "        # In case swapping Terra to Luna, the terra swap pool(offer) must be \n",
    "        # increased and the luna swap pool(ask) must be decreased\n",
    "        if offerCoin[\"denom\"] != self.MicroLunaDenom and askCoin[\"denom\"] == self.MicroLunaDenom:\n",
    "            offerBaseCoin, err = self._ComputeInternalSwap(offerCoin, self.MicroSDRDenom)\n",
    "            if err != None:\n",
    "                return err\n",
    "            terraPoolDelta = terraPoolDelta + offerBaseCoin[\"amount\"]\n",
    "\n",
    "        # In case swapping Luna to Terra, the luna swap pool(offer) must be increased and the terra swap pool(ask) must be decreased\n",
    "        if offerCoin[\"denom\"] == self.MicroLunaDenom and askCoin[\"denom\"] != self.MicroLunaDenom:\n",
    "            askBaseCoin, err = self._ComputeInternalSwap(askCoin, self.MicroSDRDenom)\n",
    "            if err != None:\n",
    "                return err\n",
    "            terraPoolDelta = terraPoolDelta - askBaseCoin[\"amount\"]\n",
    "        \n",
    "        # Update Terra Delta Variable\n",
    "        self._SetTerraPoolDelta(terraPoolDelta)\n",
    "\n",
    "        return None\n",
    "      \n",
    "    # EXTERNAL QUERY FUNCTION : DOESN'T IMPACT STATE\n",
    "    # simulateSwap interface for simulate swap\n",
    "    def simulateSwap(self, offerCoin, askDenom):\n",
    "        if askDenom == offerCoin[\"denom\"] :\n",
    "            return {\"denom\":\"\", \"amount\":0}, \"askDenom and offerDenom cannot be same\"\n",
    "\n",
    "        # Invalid amount\n",
    "        if len(offerCoin[\"amount\"]) > 100 :\n",
    "            return {\"denom\":\"\", \"amount\":0}, \"Invalid offerCoin\"\n",
    "        \n",
    "        # Calculate Swap\n",
    "        swapCoin, spread, err = self._ComputeSwap(offerCoin, askDenom)\n",
    "        if err != None:\n",
    "            return {\"denom\":\"\", \"amount\":0}, err\n",
    "        \n",
    "        # Subtract spread\n",
    "        if spread > 0:\n",
    "            swapFeeAmt = spread * swapCoin[\"amount\"]\n",
    "            if swapFeeAmt > 0:\n",
    "                swapFee = { \"denom\":swapCoin[\"denom\"], \"amount\":swapFeeAmt }\n",
    "                swapCoin[\"amount\"] = swapCoin[\"amount\"] -  swapFee[\"amount\"]\n",
    "\n",
    "        return swapCoin, None\n",
    "\n",
    "\n",
    "    # END--BLOCK FUNCTION    \n",
    "    # ==> EndBlocker is called at the end of every block\n",
    "    def TerraMarketModuleEndBlock(self):\n",
    "        # Replenishes each pools towards equilibrium\n",
    "        self._ReplenishPools()\n",
    "    \n",
    "    # INTERNAL FUNCTION\n",
    "    # Replenishes each pools towards equilibrium\n",
    "    def _ReplenishPools(self):\n",
    "        # Get current pool delta\n",
    "        poolDelta = self.GetTerraPoolDelta()\n",
    "        # Calculate Pool Regression Amount with current Pool Recovery period\n",
    "        poolRegressionAmt = poolDelta / self.poolrecoveryperiod\n",
    "        # Replenish terra pool towards base pool. \n",
    "        # regressionAmt cannot make delta zero\n",
    "        newPoolDelta = poolDelta - poolRegressionAmt\n",
    "        # Update Delta\n",
    "        self._SetTerraPoolDelta(newPoolDelta)\n",
    "#         print(f\"Replenishing pools : poolDelta = {poolDelta} | poolRegressionAmt = {poolRegressionAmt} | newPoolDelta = {newPoolDelta}\")\n",
    "\n",
    "        \n",
    "        \n",
    "\n",
    "\n",
    " \n",
    "\n"
   ]
  },
  {
   "cell_type": "markdown",
   "metadata": {
    "pycharm": {
     "name": "#%%\n"
    }
   },
   "source": [
    "# Bank Module \n",
    "\n",
    "Bank Module keeps track of user's token balances and the total supply of these tokens."
   ]
  },
  {
   "cell_type": "code",
   "execution_count": null,
   "metadata": {
    "pycharm": {
     "name": "#%%\n"
    }
   },
   "outputs": [],
   "source": [
    "# BankKeeper defines expected supply keeper\n",
    "#---------------x-----------x--------------\n",
    "class TerraBankModule:\n",
    "    \n",
    "    \n",
    "    def __new__(cls, *args, **kwargs):\n",
    "        return super().__new__(cls)\n",
    "    \n",
    "    def __init__(self):\n",
    "        self.accounts = pd.DataFrame(columns=[\"user_address\",\"uluna\",\"uusd\",\"usdr\"])\n",
    "        self.accounts.loc[0] = [\"\",0,0,0]\n",
    "        self.totalSupply = {\n",
    "        \"uluna\": 0,\n",
    "        \"uusd\": 0,\n",
    "        \"usdr\": 0,\n",
    "    }\n",
    "        \n",
    "    # TRANSFER TOKENS\n",
    "    def SendCoinsFromModuleToModule(self, senderAddr, recipientAddr,  coin):\n",
    "        sender = self.accounts.loc[self.accounts['user_address'] == senderAddr]\n",
    "        if len(sender) == 0: # Return Error \n",
    "            return \"Sender doesn't exist\"\n",
    "\n",
    "        # balance check\n",
    "        sender_balance = float(self.accounts.loc[self.accounts['user_address'] == senderAddr][coin[\"denom\"]])        \n",
    "        if sender_balance < float(coin[\"amount\"]):\n",
    "            return \"insufficient balance\"        \n",
    "        \n",
    "        # Get recepient\n",
    "        recepient = self.accounts.loc[self.accounts['user_address'] == recipientAddr]\n",
    "        if len(recepient) == 0: # Create user \n",
    "            self.accounts.loc[len(self.accounts.index)] = [recipientAddr,0,0,0]  \n",
    "        recepient = self.accounts.loc[self.accounts['user_address'] == recipientAddr]\n",
    "        \n",
    "        # Update recepient user balance in the dataframe\n",
    "        recepient_balance = float(recepient[coin['denom']])\n",
    "        self.accounts.loc[self.accounts['user_address'] == recipientAddr, coin[\"denom\"]] = recepient_balance + float(coin[\"amount\"])     \n",
    "        # Update sender user balance in the dataframe\n",
    "        self.accounts.loc[self.accounts['user_address'] == senderAddr, coin[\"denom\"]] = sender_balance - float(coin[\"amount\"])     \n",
    "        \n",
    "        # LOgging\n",
    "        new_sender_balance = float(self.accounts.loc[self.accounts['user_address'] == senderAddr][coin[\"denom\"]])        \n",
    "        new_recepient_balance = float(self.accounts.loc[self.accounts['user_address'] == recipientAddr][coin[\"denom\"]])        \n",
    "#         print(f\"{float(coin['amount'])} {coin['denom']} TRANSFERRED FROM {senderAddr} TO {recipientAddr}\")\n",
    "        return None\n",
    "    \n",
    "    \n",
    "    # TRANSFER TOKENS\n",
    "    def SendCoinsFromAccountToModule(self, senderAddr, recipientAddr,  coin):\n",
    "        sender = self.accounts.loc[self.accounts['user_address'] == senderAddr]\n",
    "        if len(sender) == 0: # Return Error \n",
    "            return \"Sender doesn't exist\"\n",
    "\n",
    "        # balance check\n",
    "        sender_balance = float(self.accounts.loc[self.accounts['user_address'] == senderAddr][coin[\"denom\"]])        \n",
    "        if sender_balance < float(coin[\"amount\"]):\n",
    "            return \"insufficient balance\"        \n",
    "        \n",
    "        # Get recepient\n",
    "        recepient = self.accounts.loc[self.accounts['user_address'] == recipientAddr]\n",
    "        if len(recepient) == 0: # Create user \n",
    "            self.accounts.loc[len(self.accounts.index)] = [recipientAddr,0,0,0]  \n",
    "        recepient = self.accounts.loc[self.accounts['user_address'] == recipientAddr]\n",
    "        \n",
    "        # Update recepient user balance in the dataframe\n",
    "        recepient_balance = float(recepient[coin['denom']])\n",
    "        self.accounts.loc[self.accounts['user_address'] == recipientAddr, coin[\"denom\"]] = recepient_balance + float(coin[\"amount\"])     \n",
    "        # Update sender user balance in the dataframe\n",
    "        self.accounts.loc[self.accounts['user_address'] == senderAddr, coin[\"denom\"]] = sender_balance - float(coin[\"amount\"])     \n",
    "        \n",
    "        # LOgging\n",
    "        new_sender_balance = float(self.accounts.loc[self.accounts['user_address'] == senderAddr][coin[\"denom\"]])        \n",
    "        new_recepient_balance = float(self.accounts.loc[self.accounts['user_address'] == recipientAddr][coin[\"denom\"]])        \n",
    "#         print(f\"{int(coin['amount'])} {coin['denom']} TRANSFERRED FROM {senderAddr} TO {recipientAddr}\")\n",
    "        return None\n",
    "    \n",
    "    \n",
    "    # TRANSFER TOKENS\n",
    "    def SendCoinsFromModuleToAccount(self, senderAddr, recipientAddr,  coin):\n",
    "        sender = self.accounts.loc[self.accounts['user_address'] == senderAddr]\n",
    "#         print(sender)\n",
    "        if len(sender) == 0: # Return Error \n",
    "            return \"Sender doesn't exist\"\n",
    "\n",
    "        # balance check\n",
    "        sender_balance = float(self.accounts.loc[self.accounts['user_address'] == senderAddr][coin[\"denom\"]])        \n",
    "        if sender_balance < float(coin[\"amount\"]):\n",
    "            return \"insufficient balance\"        \n",
    "        \n",
    "        # Get recepient\n",
    "        recepient = self.accounts.loc[self.accounts['user_address'] == recipientAddr]\n",
    "#         print(recepient)\n",
    "        if len(recepient) == 0: # Create user \n",
    "            self.accounts.loc[len(self.accounts.index)] = [recipientAddr,0,0,0]  \n",
    "        recepient = self.accounts.loc[self.accounts['user_address'] == recipientAddr]\n",
    "        \n",
    "        # Update recepient user balance in the dataframe\n",
    "        recepient_balance = float(recepient[coin['denom']])\n",
    "        self.accounts.loc[self.accounts['user_address'] == recipientAddr, coin[\"denom\"]] = recepient_balance + float(coin[\"amount\"])     \n",
    "        # Update sender user balance in the dataframe\n",
    "        self.accounts.loc[self.accounts['user_address'] == senderAddr, coin[\"denom\"]] = sender_balance - float(coin[\"amount\"])     \n",
    "        \n",
    "        # LOgging\n",
    "        new_sender_balance = float(self.accounts.loc[self.accounts['user_address'] == senderAddr][coin[\"denom\"]])        \n",
    "        new_recepient_balance = float(self.accounts.loc[self.accounts['user_address'] == recipientAddr][coin[\"denom\"]])        \n",
    "#         print(f\"{int(coin['amount'])} {coin['denom']} TRANSFERRED FROM {senderAddr} TO {recipientAddr}\")\n",
    "        return None    \n",
    "    \n",
    "    \n",
    "    # MINT NEW TOKENS\n",
    "    def MintCoins(self, recipientAddr, coin):\n",
    "        # get recepient\n",
    "        recepient = self.accounts.loc[self.accounts['user_address'] == recipientAddr]\n",
    "        if len(recepient) == 0: # Create user \n",
    "            self.accounts.loc[len(self.accounts.index)] = [recipientAddr,0,0,0]  \n",
    "        recepient = self.accounts.loc[self.accounts['user_address'] == recipientAddr]\n",
    "\n",
    "        # Update recepient user balance in the dataframe\n",
    "        cur_balance = float(recepient[coin['denom']])\n",
    "        self.accounts.loc[self.accounts['user_address'] == recipientAddr, coin[\"denom\"]] = cur_balance + float(coin[\"amount\"])     \n",
    "        \n",
    "        # Update total accounted token supply\n",
    "        self.totalSupply[coin[\"denom\"]] = self.totalSupply[coin[\"denom\"]] + coin[\"amount\"]\n",
    "\n",
    "        # LOgging\n",
    "        new_balance = float(self.accounts.loc[self.accounts['user_address'] == recipientAddr][coin[\"denom\"]])\n",
    "#         print(f\"{int(coin['amount'])} {coin['denom']} MINTED\")\n",
    "        return None\n",
    "\n",
    "       \n",
    "    # BURN TOKENS\n",
    "    def BurnCoins(self, senderAddr, coin):\n",
    "        # get sender\n",
    "        sender = self.accounts.loc[self.accounts['user_address'] == senderAddr]\n",
    "        if len(sender) == 0: # Return Error \n",
    "            return \"Sender doesn't exist\"\n",
    "        # balance check\n",
    "        sender_balance = float(self.accounts.loc[self.accounts['user_address'] == senderAddr][coin[\"denom\"]])        \n",
    "        if sender_balance < float(coin[\"amount\"]):\n",
    "            return \"insufficient balance\"                \n",
    "        \n",
    "        # Update sender user balance in the dataframe\n",
    "        cur_balance = float(sender[coin['denom']])\n",
    "        self.accounts.loc[self.accounts['user_address'] == senderAddr, coin[\"denom\"]] = cur_balance - float(coin[\"amount\"])     \n",
    "        \n",
    "        # Update total accounted token supply\n",
    "        self.totalSupply[coin[\"denom\"]] = self.totalSupply[coin[\"denom\"]] - coin[\"amount\"]\n",
    "\n",
    "        # LOgging\n",
    "        new_balance = float(self.accounts.loc[self.accounts['user_address'] == senderAddr][coin[\"denom\"]])\n",
    "#         print(f\"{float(coin['amount'])} {coin['denom']} BURNT\")\n",
    "        return None\n",
    "\n",
    "           \n",
    "        \n",
    "    # GET USER BALANCE\n",
    "    def GetBalance(self, addr, denom):\n",
    "        user = self.accounts.loc[self.accounts['user_address'] == addr]\n",
    "        len_ = len(user)\n",
    "        if len(user) == 0:\n",
    "            self.accounts.loc[len(self.accounts.index)] = [addr,0,0,0]\n",
    "            return 0\n",
    "        return float(user[denom])\n",
    "        \n",
    "\n",
    "    def GetTotalSupply(self, denom):\n",
    "        return self.totalSupply[denom]\n",
    "    \n",
    "    \n",
    "    def SpendableCoins(self,ctx, addr):\n",
    "        pass\n",
    "\n",
    "    def IsSendEnabledCoin(self,ctx, coin):\n",
    "        pass"
   ]
  },
  {
   "cell_type": "code",
   "execution_count": null,
   "metadata": {
    "pycharm": {
     "name": "#%%\n"
    }
   },
   "outputs": [],
   "source": []
  },
  {
   "cell_type": "code",
   "execution_count": null,
   "metadata": {
    "pycharm": {
     "name": "#%%\n"
    }
   },
   "outputs": [],
   "source": []
  },
  {
   "cell_type": "code",
   "execution_count": null,
   "metadata": {
    "pycharm": {
     "name": "#%%\n"
    }
   },
   "outputs": [],
   "source": []
  },
  {
   "cell_type": "markdown",
   "metadata": {
    "pycharm": {
     "name": "#%%\n"
    }
   },
   "source": [
    "## ORACLE MODULE\n",
    "\n",
    "A toned-down version of terra's Oracle module used to update / fetch prices for terraCoins to be used by Terra's market module for processing swaps.\n",
    "\n"
   ]
  },
  {
   "cell_type": "code",
   "execution_count": null,
   "metadata": {
    "pycharm": {
     "name": "#%%\n"
    }
   },
   "outputs": [],
   "source": [
    "# OracleKeeper defines expected oracle keeper\n",
    "#---------------x-----------x--------------\n",
    "class TerraOracleKeeper:\n",
    "\n",
    "    def __new__(cls, *args, **kwargs):\n",
    "        return super().__new__(cls)\n",
    "    \n",
    "    def __init__(self):    \n",
    "        self.voteperiod = 30                       # core.BlocksPerMinute / 2 (30 seconds) \n",
    "        self.rewarddistributionwindow = 5256000    # core.BlocksPerWeek (window for a week)\n",
    "        self.slashwindow = 100800                  # core.BlocksPerYear (window for a year)\n",
    "\n",
    "        self.votethreshold = 0.500000000000000000  # 50%\n",
    "        self.rewardband = 0.02                     # 2%\n",
    "        \n",
    "        self.whitelist = {\"name\": \"ukrw\", \"tobin_tax\": 0.002000000000000000}\n",
    "        self.slashfraction = 0.001000000000000000                 # 0.01%\n",
    "        self.minvalidperwindow = 0.050000000000000000             # 5%\n",
    "        \n",
    "        self.currentExchangeRates = {\n",
    "            \"uusd\": 0,\n",
    "            \"usdr\": 0,\n",
    "            \"ukrw\": 0\n",
    "        }\n",
    "        self.toblinTax = {\n",
    "            \"uusd\": 0.0035,\n",
    "            \"usdr\": 0.0035,\n",
    "            \"ukrw\": 0.0035,\n",
    "            \"umnt\": 0.02,\n",
    "            \"ueur\": 0.0035,\n",
    "            \"ucny\": 0.0035,\n",
    "            \"ujpy\": 0.0035,\n",
    "            \"ugbp\": 0.0035,\n",
    "            \"uinr\": 0.0035,\n",
    "            \"ucad\": 0.0035,\n",
    "            \"uchf\": 0.0035,\n",
    "            \"uhkd\": 0.0035,\n",
    "            \"usgd\": 0.0035,\n",
    "            \"uaud\": 0.0035,\n",
    "            \"uthb\": 0.0075,\n",
    "            \"usek\": 0.0035,\n",
    "            \"udkk\": 0.0035,\n",
    "            \"unok\": 0.0035,\n",
    "            \"uidr\": 0.0075,\n",
    "            \"uphp\": 0.0075,\n",
    "            \"umyr\": 0.0035,\n",
    "            \"utwd\": 0.0035,\n",
    "        }\n",
    "    \n",
    "        self.MicroLunaDenom = \"uluna\"\n",
    "        self.MicroUSDDenom  = \"uusd\"\n",
    "        self.MicroKRWDenom  = \"ukrw\"\n",
    "        self.MicroSDRDenom  = \"usdr\"\n",
    "        self.MicroCNYDenom  = \"ucny\"\n",
    "        self.MicroJPYDenom  = \"ujpy\"\n",
    "        self.MicroEURDenom  = \"ueur\"\n",
    "        self.MicroGBPDenom  = \"ugbp\"\n",
    "        self.MicroMNTDenom  = \"umnt\"    \n",
    "    \n",
    "    \n",
    "    # EXTERNAL FUNCTION\n",
    "    # get exchange rate\n",
    "    def GetLunaExchangeRate(self,denom):\n",
    "        if denom == self.MicroLunaDenom:\n",
    "            return 1, None\n",
    "        # retrieve exchange rate\n",
    "        ex = self.currentExchangeRates[denom]\n",
    "        if ex == None:\n",
    "            return 0, \"Unknown Denom\"    \n",
    "        return ex, None\n",
    "\n",
    "    # INTERNAL FUNCTION\n",
    "    # set exchange rate\n",
    "    def SetLunaExchangeRate(self, denom, exchangeRate): \n",
    "        self.currentExchangeRates[denom] = exchangeRate\n",
    "       \n",
    "    \n",
    "    # INTERNAL FUNCTION\n",
    "    # delete exchange rate\n",
    "    def _DeleteLunaExchangeRate(self, denom): \n",
    "        self.currentExchangeRates[denom] = 0\n",
    "           \n",
    "    # EXTERNAL FUNCTION -- Get Toblin Tax\n",
    "    def GetTobinTax(self, denom):\n",
    "        return self.toblinTax[denom]\n",
    "\n",
    "    # EXTERNAL FUNCTION -- Set Toblin Tax\n",
    "    def SetTobinTax(self, denom, tobinTax): \n",
    "        self.toblinTax[denom] = tobinTax\n",
    "   "
   ]
  },
  {
   "cell_type": "code",
   "execution_count": null,
   "metadata": {
    "pycharm": {
     "name": "#%%\n"
    }
   },
   "outputs": [],
   "source": []
  },
  {
   "cell_type": "code",
   "execution_count": null,
   "metadata": {
    "pycharm": {
     "name": "#%%\n"
    }
   },
   "outputs": [],
   "source": []
  },
  {
   "cell_type": "code",
   "execution_count": null,
   "metadata": {
    "pycharm": {
     "name": "#%%\n"
    }
   },
   "outputs": [],
   "source": []
  },
  {
   "cell_type": "code",
   "execution_count": null,
   "metadata": {
    "pycharm": {
     "name": "#%%\n"
    }
   },
   "outputs": [],
   "source": []
  },
  {
   "cell_type": "code",
   "execution_count": null,
   "metadata": {
    "pycharm": {
     "name": "#%%\n"
    }
   },
   "outputs": [],
   "source": [
    "# import pandas as pd\n",
    "# import matplotlib.pyplot as plt\n",
    "# import csv\n",
    "# import math\n",
    "\n",
    "# # https://classic-agora.terra.money/t/seigniorage-distribution-framework/212\n",
    "\n",
    "# \"\"\"\n",
    "# Seigniorage allocation simulation in a 2 firm economy(dappA, dappB)\n",
    "# Inputs\n",
    "# Tax Spent(include swap fee), Total Value Locked timeseries data for each firm\n",
    "# Parameters\n",
    "# lambda\n",
    "# alpha\n",
    "# Outputs\n",
    "# Funding Weight timeseies for each firm\n",
    "# \"\"\"\n",
    "\n",
    "# class SeigniorageState:\n",
    "#     def __init__(self, dappA, dappB, λ, α):\n",
    "#         self.dappA = dappA\n",
    "#         self.dappB = dappB\n",
    "#         self.λ = λ\n",
    "#         self.α = α\n",
    "\n",
    "#     # tax Spent, total value locked\n",
    "#     # 1 period = 14days\n",
    "#     def Wil(self):\n",
    "#         wil = []\n",
    "#         j = 0\n",
    "#         for i in range(0, len(self.dappA), 14):\n",
    "#             periodic_dappA_fee = 0\n",
    "#             periodic_dappA_tvl = 0\n",
    "#             periodic_dappB_fee = 0\n",
    "#             periodic_dappB_tvl = 0\n",
    "#             temp_dappA = self.dappA[i : i + 14]\n",
    "#             temp_dappB = self.dappB[i : i + 14]\n",
    "\n",
    "#             dappA_wil = 0\n",
    "#             dappB_wil = 0\n",
    "\n",
    "#             if len(self.dappA[i : i + 14]) != 14:\n",
    "#                 break\n",
    "\n",
    "#             # calculate periodic value\n",
    "#             for i in range(len(temp_dappA)):\n",
    "#                 periodic_dappA_fee = periodic_dappA_fee + float(temp_dappA[i][1])\n",
    "#                 periodic_dappA_tvl = periodic_dappA_tvl + math.sqrt(\n",
    "#                     float(temp_dappA[i][2])\n",
    "#                 )\n",
    "#                 periodic_dappB_fee = periodic_dappB_fee + float(temp_dappB[i][1])\n",
    "#                 periodic_dappB_tvl = periodic_dappB_tvl + math.sqrt(\n",
    "#                     float(temp_dappB[i][2])\n",
    "#                 )\n",
    "\n",
    "#             # calculate wil value using periodic value\n",
    "#             dappA_wil = self.λ * (\n",
    "#                 periodic_dappA_fee / (periodic_dappA_fee + periodic_dappB_fee)\n",
    "#             ) + (1 - self.λ) * (\n",
    "#                 periodic_dappA_tvl / (periodic_dappA_tvl + periodic_dappB_tvl)\n",
    "#             )\n",
    "#             dappB_wil = self.λ * (\n",
    "#                 periodic_dappB_fee / (periodic_dappA_fee + periodic_dappB_fee)\n",
    "#             ) + (1 - self.λ) * (\n",
    "#                 periodic_dappB_tvl / (periodic_dappA_tvl + periodic_dappB_tvl)\n",
    "#             )\n",
    "\n",
    "#             wil.append([j, dappA_wil, dappB_wil])\n",
    "#             j = j + 1\n",
    "\n",
    "#         return wil\n",
    "\n",
    "#     # growth\n",
    "#     def Wig(self):\n",
    "#         wig = []\n",
    "#         j = 0\n",
    "\n",
    "#         for i in range(0, len(self.dappA), 14):\n",
    "#             temp_dappA = self.dappA[i : i + 14]\n",
    "#             temp_dappB = dappB[i : i + 14]\n",
    "#             periodic_dappA_fee_growth = 0\n",
    "#             periodic_dappB_fee_growth = 0\n",
    "#             periodic_dappA_tvl_growth = 0\n",
    "#             periodic_dappB_tvl_growth = 0\n",
    "\n",
    "#             if len(self.dappA[i : i + 14]) != 14:\n",
    "#                 break\n",
    "\n",
    "#             # calculate the sum of TVL growth rate\n",
    "#             for i in range(len(temp_dappA)):\n",
    "#                 try:\n",
    "#                     periodic_dappA_fee_growth = periodic_dappA_fee_growth + (\n",
    "#                         (float(temp_dappA[i + 1][1]) - float(temp_dappA[i][1]))\n",
    "#                         / float(temp_dappA[i][1])\n",
    "#                     )\n",
    "#                     periodic_dappA_tvl_growth = periodic_dappA_tvl_growth + (\n",
    "#                         (\n",
    "#                             math.sqrt(float(temp_dappA[i + 1][2]))\n",
    "#                             - math.sqrt(float(temp_dappA[i][2]))\n",
    "#                         )\n",
    "#                         / math.sqrt((float(temp_dappA[i][2])))\n",
    "#                     )\n",
    "#                     periodic_dappB_fee_growth = periodic_dappB_fee_growth + (\n",
    "#                         (float(temp_dappB[i + 1][1]) - float(temp_dappB[i][1]))\n",
    "#                         / float(temp_dappB[i][1])\n",
    "#                     )\n",
    "#                     periodic_dappB_tvl_growth = periodic_dappB_tvl_growth + (\n",
    "#                         (\n",
    "#                             math.sqrt(float(temp_dappB[i + 1][2]))\n",
    "#                             - math.sqrt(float(temp_dappB[i][2]))\n",
    "#                         )\n",
    "#                         / math.sqrt(float(temp_dappB[i][2]))\n",
    "#                     )\n",
    "#                 except:\n",
    "#                     pass\n",
    "\n",
    "#             # divide TVL growth rate sum by 13, and take max function\n",
    "#             periodic_dappA_fee_growth = max(0, periodic_dappA_fee_growth / 13)\n",
    "#             periodic_dappA_tvl_growth = max(0, periodic_dappA_tvl_growth / 13)\n",
    "#             periodic_dappB_fee_growth = max(0, periodic_dappB_fee_growth / 13)\n",
    "#             periodic_dappB_tvl_growth = max(0, periodic_dappB_tvl_growth / 13)\n",
    "\n",
    "#             # the denominator can't be 0\n",
    "#             if (\n",
    "#                 periodic_dappA_fee_growth + periodic_dappB_fee_growth == 0\n",
    "#                 or periodic_dappA_tvl_growth + periodic_dappB_tvl_growth == 0\n",
    "#             ):\n",
    "#                 dappA_wig = 0\n",
    "#                 dappB_wig = 0\n",
    "\n",
    "#             # calculate wig using periodic value\n",
    "#             else:\n",
    "#                 dappA_wig = self.λ * (\n",
    "#                     periodic_dappA_fee_growth\n",
    "#                     / (periodic_dappA_fee_growth + periodic_dappB_fee_growth)\n",
    "#                 ) + (1 - self.λ) * (\n",
    "#                     periodic_dappA_tvl_growth\n",
    "#                     / (periodic_dappA_tvl_growth + periodic_dappB_tvl_growth)\n",
    "#                 )\n",
    "#                 dappB_wig = self.λ * (\n",
    "#                     periodic_dappB_fee_growth\n",
    "#                     / (periodic_dappA_fee_growth + periodic_dappB_fee_growth)\n",
    "#                 ) + (1 - self.λ) * (\n",
    "#                     periodic_dappB_tvl_growth\n",
    "#                     / (periodic_dappA_tvl_growth + periodic_dappB_tvl_growth)\n",
    "#                 )\n",
    "\n",
    "#             wig.append([j, dappA_wig, dappB_wig])\n",
    "\n",
    "#             j = j + 1\n",
    "\n",
    "#         return wig\n",
    "\n",
    "#     def funding_weight(self, wil, wig):\n",
    "#         w = []\n",
    "\n",
    "#         for i in range(len(wil)):\n",
    "#             dappA_w = 0\n",
    "#             dappB_w = 0\n",
    "#             dappA_w = self.α * wil[i][1] + (1 - self.α) * wig[i][1]\n",
    "#             dappB_w = self.α * wil[i][2] + (1 - self.α) * wig[i][2]\n",
    "#             w.append([dappA_w, dappB_w])\n",
    "\n",
    "#         w = pd.DataFrame(w)\n",
    "#         w = w.rename(columns={0: \"dappA\", 1: \"dappB\"})\n",
    "\n",
    "#         return w\n",
    "    \n",
    "#     def create_graph(self, w):\n",
    "#         df = w.divide(w.sum(axis=1), axis=0)\n",
    "#         ax = df.plot(\n",
    "#             kind=\"area\",\n",
    "#             color=[\"lightcoral\", \"skyblue\"],\n",
    "#             stacked=True,\n",
    "#             title=\"λ={}  α={}\".format(λ, α)\n",
    "#         )\n",
    "\n",
    "#         ax.set_xlabel(\"Period (2 weeks)\")\n",
    "#         ax.set_ylabel(\"Funding Weight\")\n",
    "#         ax.set_xlim(0, 25)\n",
    "\n",
    "#         return plt.show()\n",
    "        \n",
    "\n",
    "\n",
    "# if __name__ == \"__main__\":\n",
    "#     with open(\"dappA.csv\", newline=\"\") as f:\n",
    "#         reader = csv.reader(f)\n",
    "#         dappA = list(reader)\n",
    "#         dappA = dappA[1:]\n",
    "\n",
    "#     with open(\"dappB.csv\", newline=\"\") as g:\n",
    "#         reader = csv.reader(g)\n",
    "#         dappB = list(reader)\n",
    "#         dappB = dappB[1:]\n",
    "\n",
    "#     # read λ and α from the command line\n",
    "#     λ = float(input(\"funding weight parameter lambda :\"))\n",
    "#     α = float(input(\"funding weight parameter alpha :\"))\n",
    "\n",
    "#     if α < 0 or α > 1 or λ < 0 or λ > 1:\n",
    "#         raise ValueError(\"lambda and alpha must be between 0 and 1 inclusive\")\n",
    "\n",
    "#     seign = SeigniorageState(dappA=dappA, dappB=dappB, λ=λ, α=α) \n",
    "#     w = seign.funding_weight(seign.Wil(), seign.Wig())\n",
    "    \n",
    "#     seign.create_graph(w)"
   ]
  },
  {
   "cell_type": "code",
   "execution_count": null,
   "metadata": {
    "pycharm": {
     "name": "#%%\n"
    }
   },
   "outputs": [],
   "source": []
  },
  {
   "cell_type": "code",
   "execution_count": null,
   "metadata": {
    "pycharm": {
     "name": "#%%\n"
    }
   },
   "outputs": [],
   "source": []
  },
  {
   "cell_type": "code",
   "execution_count": null,
   "metadata": {
    "pycharm": {
     "name": "#%%\n"
    }
   },
   "outputs": [],
   "source": []
  },
  {
   "cell_type": "code",
   "execution_count": null,
   "metadata": {
    "pycharm": {
     "name": "#%%\n"
    }
   },
   "outputs": [],
   "source": []
  },
  {
   "cell_type": "code",
   "execution_count": null,
   "metadata": {
    "pycharm": {
     "name": "#%%\n"
    }
   },
   "outputs": [],
   "source": []
  },
  {
   "cell_type": "code",
   "execution_count": null,
   "metadata": {
    "pycharm": {
     "name": "#%%\n"
    }
   },
   "outputs": [],
   "source": []
  }
 ],
 "metadata": {
  "kernelspec": {
   "display_name": "Python 3 (ipykernel)",
   "language": "python",
   "name": "python3"
  },
  "language_info": {
   "codemirror_mode": {
    "name": "ipython",
    "version": 3
   },
   "file_extension": ".py",
   "mimetype": "text/x-python",
   "name": "python",
   "nbconvert_exporter": "python",
   "pygments_lexer": "ipython3",
   "version": "3.8.9"
  }
 },
 "nbformat": 4,
 "nbformat_minor": 1
}
